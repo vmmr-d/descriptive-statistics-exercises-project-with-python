{
 "cells": [
  {
   "cell_type": "markdown",
   "id": "ac622319",
   "metadata": {},
   "source": [
    "# Descriptive statistics problems"
   ]
  },
  {
   "cell_type": "markdown",
   "id": "5e0ab0d5",
   "metadata": {},
   "source": [
    "### Exercise 1\n",
    "\n",
    "We will use NumPy to obtain information to describe statistically.\n",
    "\n",
    "- Generate an array of 100 elements following a normal distribution.\n",
    "- Generate an array of 100 elements following a chi-square distribution with 3 degrees of freedom.\n",
    "- Calculate the main metrics and statistical measures that best describe the two vectors."
   ]
  },
  {
   "cell_type": "code",
   "execution_count": 1,
   "id": "34720ab6",
   "metadata": {},
   "outputs": [
    {
     "name": "stdout",
     "output_type": "stream",
     "text": [
      "Distribución Normal\n",
      "Métricas Estadisticas de la Distribucion:\n",
      "Promedio: 0.1079\n",
      "Mediana: -0.0448\n",
      "Desviacion Standard: 0.9681\n",
      "Varianza: 0.9372\n",
      "Minimo: -1.8759\n",
      "Maximo: 2.7937\n",
      "Rango: 4.6696\n",
      "25th Percentile: -0.5048\n",
      "75th Percentile: 0.6572\n",
      "Distribución Chi-Square\n",
      "Métricas Estadisticas de la Distribucion:\n",
      "Promedio: 3.3066\n",
      "Mediana: 2.7034\n",
      "Desviacion Standard: 2.3764\n",
      "Varianza: 5.6471\n",
      "Minimo: 0.0400\n",
      "Maximo: 12.0868\n",
      "Rango: 12.0468\n",
      "25th Percentile: 1.7295\n",
      "75th Percentile: 4.2750\n"
     ]
    }
   ],
   "source": [
    "# TODO\n",
    "import numpy as np\n",
    "normal_distrución = np.random.normal(loc= 0, scale = 1, size = 100)\n",
    "chisquare_distr = np.random.chisquare(df=3, size=100)\n",
    "\n",
    "def estadisticas_medidas(data, distribucion):\n",
    "    print(f\"Distribución {distribucion}\\nMétricas Estadisticas de la Distribucion:\")\n",
    "    print(f\"Promedio: {np.mean(data):.4f}\")\n",
    "    print(f\"Mediana: {np.median(data):.4f}\")\n",
    "    print(f\"Desviacion Standard: {np.std(data):.4f}\")\n",
    "    print(f\"Varianza: {np.var(data):.4f}\")\n",
    "    print(f\"Minimo: {np.min(data):.4f}\")\n",
    "    print(f\"Maximo: {np.max(data):.4f}\")\n",
    "    print(f\"Rango: {np.ptp(data):.4f}\")\n",
    "    print(f\"25th Percentile: {np.percentile(data, 25):.4f}\")\n",
    "    print(f\"75th Percentile: {np.percentile(data, 75):.4f}\")\n",
    "    \n",
    "\n",
    "# Print statistics for both distributions\n",
    "estadisticas_medidas(normal_distrución, \"Normal\")\n",
    "estadisticas_medidas(chisquare_distr, \"Chi-Square\")"
   ]
  },
  {
   "cell_type": "markdown",
   "id": "46c70c3d",
   "metadata": {},
   "source": [
    "### Exercise 2\n",
    "\n",
    "Write a Python program to calculate the standard deviation of the following data:\n",
    "\n",
    "```py\n",
    "data = [4, 2, 5, 8, 6]\n",
    "```"
   ]
  },
  {
   "cell_type": "code",
   "execution_count": 2,
   "id": "d590308e",
   "metadata": {},
   "outputs": [
    {
     "data": {
      "text/plain": [
       "2.0"
      ]
     },
     "execution_count": 2,
     "metadata": {},
     "output_type": "execute_result"
    }
   ],
   "source": [
    "# TODO\n",
    "from math import sqrt\n",
    "data = [4,2,5,8,6]\n",
    "\n",
    "def desviacion_standard(data):\n",
    "    promedio = sum(data) / len(data)\n",
    "    cuadrado_suma = sum((x - promedio) ** 2 for x in data)\n",
    "    return sqrt(cuadrado_suma / len(data))\n",
    "    \n",
    "desviacion_standard(data)"
   ]
  }
 ],
 "metadata": {
  "kernelspec": {
   "display_name": "Python 3",
   "language": "python",
   "name": "python3"
  },
  "language_info": {
   "codemirror_mode": {
    "name": "ipython",
    "version": 3
   },
   "file_extension": ".py",
   "mimetype": "text/x-python",
   "name": "python",
   "nbconvert_exporter": "python",
   "pygments_lexer": "ipython3",
   "version": "3.11.4"
  }
 },
 "nbformat": 4,
 "nbformat_minor": 5
}
